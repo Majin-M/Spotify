{
 "cells": [
  {
   "cell_type": "code",
   "execution_count": 1,
   "metadata": {},
   "outputs": [],
   "source": [
    "import pandas as pd\n",
    "import numpy as np\n",
    "import spotipy\n",
    "import plotly.express as px "
   ]
  },
  {
   "cell_type": "code",
   "execution_count": 2,
   "metadata": {},
   "outputs": [],
   "source": [
    "data = pd.read_csv(\"C://Users//marcs//OneDrive//Documents//Spotify//data//data.csv\")\n",
    "genre_data = pd.read_csv(\"C://Users//marcs//OneDrive//Documents//Spotify//data//data_by_genres.csv\")\n",
    "year_data = pd.read_csv(\"C://Users//marcs//OneDrive//Documents//Spotify//data/data_by_year.csv\")\n",
    "artist_data = pd.read_csv(\"C://Users//marcs//OneDrive//Documents//Spotify//data//data_by_artist.csv\")"
   ]
  },
  {
   "cell_type": "code",
   "execution_count": null,
   "metadata": {},
   "outputs": [],
   "source": [
    "from sklearn.cluster import KMeans\n",
    "from sklearn.preprocessing import StandardScaler\n",
    "from sklearn.pipeline import Pipeline\n",
    "song_cluster_pipeline = Pipeline([('scaler', StandardScaler()), \n",
    "                                  ('kmeans', KMeans(n_clusters=25, \n",
    "                                   verbose=False))\n",
    "                                 ], verbose=False)\n",
    "\n",
    "X = data.select_dtypes(np.number)\n",
    "song_cluster_pipeline.fit(X)\n",
    "song_cluster_labels = song_cluster_pipeline.predict(X)\n"
   ]
  },
  {
   "cell_type": "markdown",
   "metadata": {},
   "source": [
    "MODELISATION"
   ]
  },
  {
   "cell_type": "markdown",
   "metadata": {},
   "source": [
    "Sur la base de l'analyse et des visualisations, il est clair que les genres similaires ont tendance à avoir des points de données situés à proximité les uns des autres, tandis que des types de chansons similaires sont également regroupés ensemble."
   ]
  },
  {
   "cell_type": "markdown",
   "metadata": {},
   "source": [
    "Cette observation est logique. Les genres similaires auront des sonorités similaires et proviendront de périodes similaires, tout comme les chansons au sein de ces genres. Nous pouvons utiliser cette idée pour construire un système de recommandation en prenant les points de données des chansons qu'un utilisateur a écoutées et en recommandant des chansons correspondant à des points de données voisins."
   ]
  },
  {
   "cell_type": "code",
   "execution_count": 4,
   "metadata": {},
   "outputs": [],
   "source": [
    "import spotipy\n",
    "from spotipy.oauth2 import SpotifyClientCredentials\n",
    "from collections import defaultdict\n",
    "\n",
    "\n",
    "\n",
    "CLIENT_ID = \"0c44dd32dc264ffc925263348f8df5f1\"\n",
    "CLIENT_SECRET = \"33895e274f454993b57d91ccf2753e01\"\n",
    "\n",
    "sp = spotipy.Spotify(auth_manager=SpotifyClientCredentials(client_id=CLIENT_ID, \n",
    "                                                           client_secret=CLIENT_SECRET))"
   ]
  },
  {
   "cell_type": "code",
   "execution_count": 5,
   "metadata": {},
   "outputs": [],
   "source": [
    "'''\n",
    "Trouver les détails des chansons dans l'ensemble de données de Spotify. \n",
    "Si la chanson n'est pas disponible dans l'ensemble de données, cela renvoie None.\n",
    "'''\n",
    "def find_song(name, year):\n",
    "    song_data = defaultdict()\n",
    "    results = sp.search(q= 'track: {} year: {}'.format(name,year), limit=1)\n",
    "    if results['tracks']['items'] == []:\n",
    "        return None\n",
    "    \n",
    "    \n",
    "    results = results['tracks']['items'][0]\n",
    "    track_id = results['id']\n",
    "    audio_features = sp.audio_features(track_id)[0]\n",
    "\n",
    "    song_data['name'] = [name]\n",
    "    song_data['year'] = [year]\n",
    "    song_data['explicit'] = [int(results['explicit'])]\n",
    "    song_data['duration_ms'] = [results['duration_ms']]\n",
    "    song_data['popularity'] = [results['popularity']]\n",
    "\n",
    "    for key, value in audio_features.items():\n",
    "        song_data[key] = value\n",
    "\n",
    "    return pd.DataFrame(song_data)"
   ]
  },
  {
   "cell_type": "code",
   "execution_count": 6,
   "metadata": {},
   "outputs": [],
   "source": [
    "number_cols = ['valence', 'year', 'acousticness', 'danceability', 'duration_ms', 'energy', 'explicit',\n",
    " 'instrumentalness', 'key', 'liveness', 'loudness', 'mode', 'popularity', 'speechiness', 'tempo']"
   ]
  },
  {
   "cell_type": "code",
   "execution_count": 7,
   "metadata": {},
   "outputs": [],
   "source": [
    "''''\n",
    "Récupère les détails des chansons à partir de l'ensemble de données. \n",
    "Si les informations ne sont pas disponibles dans l'ensemble de données,\n",
    "il recherchera les détails dans l'ensemble de données Spotify.\n",
    "\n",
    "'''\n",
    "\n",
    "\n",
    "def get_song_data(song, spotify_data):\n",
    "    try:\n",
    "        song_data = spotify_data[(spotify_data['name'] == song['name']) \n",
    "                                & (spotify_data['year'] == song['year'])].iloc[0]\n",
    "        print('Fetching song information from local dataset')\n",
    "        return song_data\n",
    "    \n",
    "    except IndexError:\n",
    "        print('Fetching song information from spotify dataset')\n",
    "        return find_song(song['name'], song['year'])"
   ]
  },
  {
   "cell_type": "code",
   "execution_count": 8,
   "metadata": {},
   "outputs": [],
   "source": [
    "'''\n",
    "Récupèrer les informations sur les chansons à partir de l'ensemble de données \n",
    "et calculer la moyenne de toutes les caractéristiques numériques des données des chansons\n",
    "'''\n",
    "def get_mean_vector(song_list, spotify_data):\n",
    "    song_vectors = []\n",
    "    for song in song_list:\n",
    "        song_data = get_song_data(song, spotify_data)\n",
    "        if song_data is None:\n",
    "            print('Warning: {} does not exist in Spotify or in database'.format(song['name']))\n",
    "            continue\n",
    "        song_vector = song_data[number_cols].values\n",
    "        song_vectors.append(song_vector)  \n",
    "    \n",
    "    song_matrix = np.array(list(song_vectors))#nd-array où n est le nombre de chansons dans la liste. Il contient toutes les valeurs numériques des chansons dans une liste séparée.\n",
    "    return np.mean(song_matrix, axis=0) "
   ]
  },
  {
   "cell_type": "code",
   "execution_count": 9,
   "metadata": {},
   "outputs": [],
   "source": [
    "'''\n",
    "linéariser le dictionnaire en regroupant la clé et en formant une liste de valeurs pour la clé respective..\n",
    "'''\n",
    "def flatten_dict_list(dict_list):\n",
    "    flattened_dict = defaultdict()\n",
    "    for key in dict_list[0].keys(): \n",
    "        flattened_dict[key] = []\n",
    "    for dic in dict_list:\n",
    "        for key,value in dic.items():\n",
    "            flattened_dict[key].append(value)\n",
    "    return flattened_dict"
   ]
  },
  {
   "cell_type": "code",
   "execution_count": 10,
   "metadata": {},
   "outputs": [],
   "source": [
    "'''\n",
    "Mettre à l'échelle l'entrée moyenne ainsi que les caractéristiques numériques de l'ensemble de données.\n",
    "Calculer la distance euclidienne entre l'entrée moyenne et l'ensemble de données.\n",
    "Récupérer les 10 meilleures chansons avec la similarité maximale.\n",
    "\n",
    "'''\n",
    "import scipy\n",
    "from scipy.spatial.distance import cdist\n",
    "\n",
    "\n",
    "\n",
    "def recommend_songs( song_list, spotify_data, n_songs=10):\n",
    "    \n",
    "    metadata_cols = ['name', 'year', 'artists']\n",
    "    song_dict = flatten_dict_list(song_list)\n",
    "    \n",
    "    song_center = get_mean_vector(song_list, spotify_data)\n",
    "    \n",
    "    scaler = song_cluster_pipeline.steps[0][1] \n",
    "    scaled_data = scaler.transform(spotify_data[number_cols])\n",
    "    scaled_song_center = scaler.transform(song_center.reshape(1, -1))\n",
    "    distances = cdist(scaled_song_center, scaled_data, 'cosine')\n",
    "\n",
    "    index = list(np.argsort(distances)[:, :n_songs][0])\n",
    "    \n",
    "    rec_songs = spotify_data.iloc[index]\n",
    "    rec_songs = rec_songs[~rec_songs['name'].isin(song_dict['name'])]\n",
    "    return rec_songs[metadata_cols].to_dict(orient='records')"
   ]
  },
  {
   "cell_type": "code",
   "execution_count": 12,
   "metadata": {},
   "outputs": [
    {
     "name": "stdout",
     "output_type": "stream",
     "text": [
      "Fetching song information from spotify dataset\n"
     ]
    },
    {
     "name": "stderr",
     "output_type": "stream",
     "text": [
      "c:\\Users\\marcs\\AppData\\Local\\Programs\\Python\\Python311\\Lib\\site-packages\\sklearn\\base.py:493: UserWarning: X does not have valid feature names, but StandardScaler was fitted with feature names\n",
      "  warnings.warn(\n"
     ]
    },
    {
     "data": {
      "text/plain": [
       "[{'name': 'Hennessy and Moscato',\n",
       "  'year': 2019,\n",
       "  'artists': \"['Shakur Luciano']\"},\n",
       " {'name': 'Survival', 'year': 2018, 'artists': \"['Drake']\"},\n",
       " {'name': 'Perfect Time', 'year': 2019, 'artists': \"['Roddy Ricch']\"},\n",
       " {'name': 'No Lames (feat. Summer Walker)',\n",
       "  'year': 2019,\n",
       "  'artists': \"['Kash Doll', 'Summer Walker']\"},\n",
       " {'name': 'Nonchalant', 'year': 2018, 'artists': \"['6LACK']\"},\n",
       " {'name': 'I Sip', 'year': 2017, 'artists': \"['Tory Lanez']\"},\n",
       " {'name': 'Missing My Idols', 'year': 2018, 'artists': \"['Trippie Redd']\"},\n",
       " {'name': 'Growing Apart (To Get Closer)',\n",
       "  'year': 2010,\n",
       "  'artists': \"['Kendrick Lamar', 'Jhené Aiko']\"},\n",
       " {'name': 'II. No Exit', 'year': 2013, 'artists': \"['Childish Gambino']\"},\n",
       " {'name': 'November 18th', 'year': 2009, 'artists': \"['Drake']\"}]"
      ]
     },
     "execution_count": 12,
     "metadata": {},
     "output_type": "execute_result"
    }
   ],
   "source": [
    "recommend_songs([{'name': 'Dior', 'year': 2019}],  data)"
   ]
  },
  {
   "cell_type": "code",
   "execution_count": 13,
   "metadata": {},
   "outputs": [
    {
     "name": "stdout",
     "output_type": "stream",
     "text": [
      "Fetching song information from spotify dataset\n"
     ]
    },
    {
     "name": "stderr",
     "output_type": "stream",
     "text": [
      "c:\\Users\\marcs\\AppData\\Local\\Programs\\Python\\Python311\\Lib\\site-packages\\sklearn\\base.py:493: UserWarning: X does not have valid feature names, but StandardScaler was fitted with feature names\n",
      "  warnings.warn(\n"
     ]
    },
    {
     "data": {
      "text/plain": [
       "[{'name': 'Backseat Driver',\n",
       "  'year': 2015,\n",
       "  'artists': \"['TobyMac', 'Hollyn', 'Tru']\"},\n",
       " {'name': 'La Tortura (feat. Alejandro Sanz) - Alternate Version',\n",
       "  'year': 2005,\n",
       "  'artists': \"['Shakira', 'Alejandro Sanz']\"},\n",
       " {'name': 'Back It Up (feat. Jennifer Lopez & Pitbull) - Video Version',\n",
       "  'year': 2015,\n",
       "  'artists': \"['Prince Royce', 'Jennifer Lopez', 'Pitbull']\"},\n",
       " {'name': 'Sunshine', 'year': 2012, 'artists': \"['Matisyahu']\"},\n",
       " {'name': 'Ragoo', 'year': 2007, 'artists': \"['Kings of Leon']\"},\n",
       " {'name': 'World of Our Own - Single Remix',\n",
       "  'year': 2011,\n",
       "  'artists': \"['Westlife']\"},\n",
       " {'name': 'Dancing In The Dark - From The \"Home\" Soundtrack',\n",
       "  'year': 2015,\n",
       "  'artists': \"['Rihanna']\"},\n",
       " {'name': 'Violet', 'year': 2016, 'artists': \"['Bad Suns']\"},\n",
       " {'name': 'Santa No Soy',\n",
       "  'year': 2004,\n",
       "  'artists': \"['RBD', 'Anahí', 'Dulce María', 'Maite Perroni', 'Christian Chávez', 'Christopher von Uckermann', 'Alfonso Herrera']\"},\n",
       " {'name': 'Gonna Get This',\n",
       "  'year': 2010,\n",
       "  'artists': \"['Hannah Montana', 'Iyaz']\"}]"
      ]
     },
     "execution_count": 13,
     "metadata": {},
     "output_type": "execute_result"
    }
   ],
   "source": [
    "recommend_songs([{'name': 'Bacc Seat', 'year': 2019}],  data)"
   ]
  },
  {
   "cell_type": "code",
   "execution_count": 15,
   "metadata": {},
   "outputs": [
    {
     "name": "stdout",
     "output_type": "stream",
     "text": [
      "Fetching song information from local dataset\n"
     ]
    },
    {
     "name": "stderr",
     "output_type": "stream",
     "text": [
      "c:\\Users\\marcs\\AppData\\Local\\Programs\\Python\\Python311\\Lib\\site-packages\\sklearn\\base.py:493: UserWarning: X does not have valid feature names, but StandardScaler was fitted with feature names\n",
      "  warnings.warn(\n"
     ]
    },
    {
     "data": {
      "text/plain": [
       "[{'name': 'Best Part (feat. Daniel Caesar)',\n",
       "  'year': 2017,\n",
       "  'artists': \"['H.E.R.', 'Daniel Caesar']\"},\n",
       " {'name': 'Eternal Flame', 'year': 2004, 'artists': \"['The Bangles']\"},\n",
       " {'name': 'Perfectly Wrong', 'year': 2018, 'artists': \"['Shawn Mendes']\"},\n",
       " {'name': 'Love Me or Leave Me', 'year': 2015, 'artists': \"['Little Mix']\"},\n",
       " {'name': 'Sorry', 'year': 2017, 'artists': \"['Halsey']\"},\n",
       " {'name': 'Train Wreck - Acoustic',\n",
       "  'year': 2020,\n",
       "  'artists': \"['James Arthur']\"},\n",
       " {'name': 'Tum Hi Ho', 'year': 2013, 'artists': \"['Arijit Singh']\"},\n",
       " {'name': 'Vertigo', 'year': 2018, 'artists': \"['Khalid']\"},\n",
       " {'name': 'Comfortable', 'year': 2020, 'artists': \"['H.E.R.']\"}]"
      ]
     },
     "execution_count": 15,
     "metadata": {},
     "output_type": "execute_result"
    }
   ],
   "source": [
    "recommend_songs([{'name': 'Body', 'year': 2020}],  data)"
   ]
  },
  {
   "cell_type": "code",
   "execution_count": 17,
   "metadata": {},
   "outputs": [
    {
     "name": "stdout",
     "output_type": "stream",
     "text": [
      "Fetching song information from local dataset\n"
     ]
    },
    {
     "name": "stderr",
     "output_type": "stream",
     "text": [
      "c:\\Users\\marcs\\AppData\\Local\\Programs\\Python\\Python311\\Lib\\site-packages\\sklearn\\base.py:493: UserWarning: X does not have valid feature names, but StandardScaler was fitted with feature names\n",
      "  warnings.warn(\n"
     ]
    },
    {
     "data": {
      "text/plain": [
       "[{'name': 'LIKE I WANT YOU', 'year': 2020, 'artists': \"['Giveon']\"},\n",
       " {'name': 'Diary (feat. Tony! Toni! Tone! & Jermaine Paul)',\n",
       "  'year': 2003,\n",
       "  'artists': \"['Alicia Keys', 'Tony! Toni! Toné!', 'Jermaine Paul']\"},\n",
       " {'name': 'Firestone', 'year': 2016, 'artists': \"['Kygo', 'Conrad Sewell']\"},\n",
       " {'name': 'Estamos Bien', 'year': 2018, 'artists': \"['Bad Bunny']\"},\n",
       " {'name': 'Nobody (feat. Athena Cage)',\n",
       "  'year': 1996,\n",
       "  'artists': \"['Keith Sweat', 'Athena Cage']\"},\n",
       " {'name': 'Hasta la Piel', 'year': 2012, 'artists': \"['Carla Morrison']\"},\n",
       " {'name': 'My Oasis (feat. Burna Boy)',\n",
       "  'year': 2020,\n",
       "  'artists': \"['Sam Smith', 'Burna Boy']\"},\n",
       " {'name': 'Spanish Guitar', 'year': 2000, 'artists': \"['Toni Braxton']\"},\n",
       " {'name': 'Steal',\n",
       "  'year': 2015,\n",
       "  'artists': \"['Maribou State', 'Holly Walker']\"}]"
      ]
     },
     "execution_count": 17,
     "metadata": {},
     "output_type": "execute_result"
    }
   ],
   "source": [
    "recommend_songs([{'name': 'Tadow', 'year': 2018}],  data)"
   ]
  },
  {
   "cell_type": "markdown",
   "metadata": {},
   "source": [
    "CONCLUSION"
   ]
  },
  {
   "cell_type": "markdown",
   "metadata": {},
   "source": [
    "Nous sommes en mesure de recommander les 10 chansons les plus similaires à l'utilisateur en fonction de l'entrée fournie. La recommandation est basée sur la similarité des caractéristiques numériques des chansons. Nous avons calculé la distance cosinus et identifié les chansons présentant la plus grande similarité."
   ]
  }
 ],
 "metadata": {
  "kernelspec": {
   "display_name": "Python 3",
   "language": "python",
   "name": "python3"
  },
  "language_info": {
   "codemirror_mode": {
    "name": "ipython",
    "version": 3
   },
   "file_extension": ".py",
   "mimetype": "text/x-python",
   "name": "python",
   "nbconvert_exporter": "python",
   "pygments_lexer": "ipython3",
   "version": "3.11.2"
  }
 },
 "nbformat": 4,
 "nbformat_minor": 2
}
